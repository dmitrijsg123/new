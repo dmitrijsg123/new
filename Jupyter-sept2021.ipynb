{
 "cells": [
  {
   "cell_type": "markdown",
   "id": "e790b8e3",
   "metadata": {},
   "source": [
    "#trying heading 1"
   ]
  },
  {
   "cell_type": "markdown",
   "id": "9a245678",
   "metadata": {},
   "source": [
    "# trying heading 1"
   ]
  },
  {
   "cell_type": "markdown",
   "id": "20887e14",
   "metadata": {},
   "source": [
    "## trying heading 2"
   ]
  },
  {
   "cell_type": "markdown",
   "id": "fee30144",
   "metadata": {},
   "source": [
    "# \n",
    "- fgfgsfd\n",
    "- fdfgdf\n",
    "- ffdghfd"
   ]
  },
  {
   "cell_type": "markdown",
   "id": "debf20c1",
   "metadata": {},
   "source": [
    "![](https://ichef.bbci.co.uk/news/976/cpsprodpb/12A9B/production/_111434467_gettyimages-1143489763.jpg)"
   ]
  }
 ],
 "metadata": {
  "kernelspec": {
   "display_name": "Python 3",
   "language": "python",
   "name": "python3"
  },
  "language_info": {
   "codemirror_mode": {
    "name": "ipython",
    "version": 3
   },
   "file_extension": ".py",
   "mimetype": "text/x-python",
   "name": "python",
   "nbconvert_exporter": "python",
   "pygments_lexer": "ipython3",
   "version": "3.8.8"
  }
 },
 "nbformat": 4,
 "nbformat_minor": 5
}
